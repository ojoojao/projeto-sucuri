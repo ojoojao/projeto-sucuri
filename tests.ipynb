{
 "cells": [
  {
   "cell_type": "code",
   "execution_count": 1,
   "id": "a0bbd151",
   "metadata": {},
   "outputs": [
    {
     "name": "stdout",
     "output_type": "stream",
     "text": [
      "('\\nTeste de texto com\\nquebra de linha e com\\n    tab tambem\\n', '\\n', '')\n",
      "('', '', '\\nTeste de texto com\\nquebra de linha e com\\n    tab tambem\\n\\n')\n",
      "42\n",
      "['', 'Teste de texto com', 'quebra de linha e com', '    tab tambem', '']\n"
     ]
    },
    {
     "data": {
      "text/plain": [
       "'123'"
      ]
     },
     "execution_count": 1,
     "metadata": {},
     "output_type": "execute_result"
    }
   ],
   "source": [
    "txt = \\\n",
    "r\"\"\"\n",
    "Teste de texto com\n",
    "quebra de linha e com\n",
    "    tab tambem\n",
    "    \n",
    "\"\"\"\n",
    "\n",
    "print(txt.rpartition(\"\\n\"))\n",
    "print(txt.rpartition(\"\\t\"))\n",
    "print(txt.find(\"    \"))\n",
    "print(txt.splitlines())\n",
    "\n",
    "a = \"1234\"\n",
    "a[:-1]\n"
   ]
  },
  {
   "cell_type": "code",
   "execution_count": null,
   "id": "3a8d6e7d",
   "metadata": {},
   "outputs": [
    {
     "name": "stdout",
     "output_type": "stream",
     "text": [
      "0\n"
     ]
    }
   ],
   "source": [
    "text = txt.splitlines()\n",
    "\n",
    "for i in text:\n",
    "    if i.find(\"    \") != -1:\n",
    "        print(i.find(\"    \"))\n",
    "\n",
    "# achar maneira de ir encontrando tabs conforme a identaçãoda proxima linha"
   ]
  },
  {
   "cell_type": "code",
   "execution_count": null,
   "id": "98849a85",
   "metadata": {},
   "outputs": [
    {
     "name": "stdout",
     "output_type": "stream",
     "text": [
      "['', 'print(\"Olá mundo!\")', '', 'a = True', '', 'if a == True:', '    print(a)']\n",
      "\n",
      "print(\"Olá mundo!\")\n",
      "\n",
      "a = True\n",
      "\n",
      "if a == True:\n",
      "    print(a)\n",
      "\n"
     ]
    }
   ],
   "source": [
    "script = \\\n",
    "\"\"\"\n",
    "mostra(\"Olá mundo!\")\n",
    "\n",
    "a = Verdade\n",
    "\n",
    "caso a == Verdade:\n",
    "    mostra(a)\n",
    "\"\"\"\n",
    "\n",
    "script = script.splitlines()\n",
    "\n",
    "n_script = []\n",
    "for i, l in enumerate(script):\n",
    "    n_script.append(l)\n",
    "    if \"mostra\" in n_script[i]:\n",
    "        n_script[i] = n_script[i].replace(\"mostra\", \"print\")\n",
    "        \n",
    "    if \"caso\" in n_script[i]:\n",
    "        n_script[i] = n_script[i].replace(\"caso\", \"if\")\n",
    "        \n",
    "    if \"Verdade\" in n_script[i]:\n",
    "        n_script[i] = n_script[i].replace(\"Verdade\", \"True\")\n",
    "\n",
    "print(n_script)\n",
    "        \n",
    "\n",
    "txt_script = \"\"\n",
    "for n_l in n_script:\n",
    "    txt_script += n_l + \"\\n\"\n",
    "\n",
    "print(txt_script)\n",
    "\n",
    "with open(\"___01.py\", \"w\", encoding='utf-8') as py:\n",
    "    py.write(txt_script)\n",
    "py.close()\n"
   ]
  },
  {
   "cell_type": "code",
   "execution_count": 3,
   "id": "65b779bb",
   "metadata": {},
   "outputs": [],
   "source": [
    "from sintaxe import palavras_reservadas, funcoes\n",
    "\n",
    "t = \\\n",
    "\"\"\"\n",
    "mostra(\"Olá mundo!\")\n",
    "\n",
    "a = Verdade\n",
    "\n",
    "caso a == Verdade:\n",
    "    mostra(a)\n",
    "\"\"\"\n",
    "t = \\\n",
    "\"\"\"\n",
    "por i em faixa(0, 10):\n",
    "    mostra(tipo(i))\n",
    "\"\"\"\n",
    "\n",
    "t = t.splitlines()\n",
    "\n",
    "lines = []\n",
    "for i, l in enumerate(t):\n",
    "    lines.append(l)\n",
    "\n",
    "    for k in palavras_reservadas.keys():\n",
    "        if k in lines[i]:\n",
    "            lines[i] = lines[i].replace(k, palavras_reservadas[k])\n",
    "    \n",
    "    for k in funcoes.keys():\n",
    "        if k in lines[i]:\n",
    "            lines[i] = lines[i].replace(k, funcoes[k])\n",
    "\n",
    "text = \"\"\n",
    "\n",
    "for l in lines:\n",
    "    text += l + \"\\n\"\n",
    "\n",
    "with open(\"__02.py\", 'w', encoding='utf-8') as py:\n",
    "    py.write(text)\n",
    "py.close()\n"
   ]
  },
  {
   "cell_type": "code",
   "execution_count": 4,
   "id": "03d9709b",
   "metadata": {},
   "outputs": [
    {
     "name": "stdout",
     "output_type": "stream",
     "text": [
      "['mostra(\"Olá mundo!\")\\n', '\\n', 'a = Verdade\\n', '\\n', 'caso a == Verdade:\\n', '    mostra(a)']\n"
     ]
    }
   ],
   "source": [
    "with open(\"teste.suc\", 'r', encoding='utf-8') as suc:\n",
    "    t = suc.readlines()\n",
    "\n",
    "print(t)"
   ]
  },
  {
   "cell_type": "code",
   "execution_count": 1,
   "id": "aa000d09",
   "metadata": {},
   "outputs": [],
   "source": [
    "from sintaxe import palavras_reservadas, funcoes\n",
    "\n",
    "with open(\"teste.su\", 'r', encoding='utf-8') as suc:\n",
    "    t = suc.readlines()\n",
    "suc.close()\n",
    "\n",
    "lines = []\n",
    "for i, l in enumerate(t):\n",
    "    lines.append(l)\n",
    "\n",
    "    for k in palavras_reservadas.keys():\n",
    "        if k in lines[i]:\n",
    "            lines[i] = lines[i].replace(k, palavras_reservadas[k])\n",
    "    \n",
    "    for k in funcoes.keys():\n",
    "        if k in lines[i]:\n",
    "            lines[i] = lines[i].replace(k, funcoes[k])\n",
    "\n",
    "text = \"\"\n",
    "for l in lines:\n",
    "    text += l\n",
    "\n",
    "with open(\"___03.py\", 'w', encoding='utf-8') as py:\n",
    "    py.write(text)\n",
    "py.close()\n"
   ]
  },
  {
   "cell_type": "code",
   "execution_count": null,
   "id": "422084e5",
   "metadata": {},
   "outputs": [],
   "source": [
    "\n",
    "\n",
    "def transform_in_py(file_path: str):\n",
    "    with open(file_path, 'r', encoding='utf-8') as suc:\n",
    "        t = suc.readlines()\n",
    "    suc.close()\n",
    "\n",
    "    lines = []\n",
    "    for i, l in enumerate(t):\n",
    "        lines.append(l)\n",
    "\n",
    "        for k in a_palavras_reservadas.keys():\n",
    "            if k in lines[i]:\n",
    "                lines[i] = lines[i].replace(k, a_palavras_reservadas[k])\n",
    "        \n",
    "        for k in r_palavras_reservadas.keys():\n",
    "            if k in lines[i]:\n",
    "                lines[i] = lines[i].replace(k, r_palavras_reservadas[k])\n",
    "        \n",
    "        for k in funcoes.keys():\n",
    "            if k in lines[i]:\n",
    "                lines[i] = lines[i].replace(k, funcoes[k])\n",
    "\n",
    "    text = \"\"\n",
    "    for l in lines:\n",
    "        text += l\n",
    "    \n",
    "    i = file_path[::-1].find(\"/\")\n",
    "    file = file_path[::-1][:i][::-1]\n",
    "    i = file_path.find(file)\n",
    "    path = file_path[:i]\n",
    "\n",
    "    file.replace(\".su\", \".py\")\n",
    "\n",
    "    file_path = path + \"\\\\run_files\\\\\" + file\n",
    "\n",
    "    with open(file_path, 'w', encoding='utf-8') as py:\n",
    "        py.write(text)\n",
    "    py.close()\n",
    "\n",
    "    return file_path\n"
   ]
  },
  {
   "cell_type": "code",
   "execution_count": 1,
   "id": "adc7a86b",
   "metadata": {},
   "outputs": [
    {
     "data": {
      "text/plain": [
       "['.git',\n",
       " '.gitattributes',\n",
       " '01.py',\n",
       " 'delimitadores.txt',\n",
       " 'funções.txt',\n",
       " 'operadores.txt',\n",
       " 'palavras_reservadas.txt',\n",
       " 'sintaxe.py',\n",
       " 'teste.su',\n",
       " 'tests.ipynb',\n",
       " '_01.py',\n",
       " '_02.py',\n",
       " '_03.py',\n",
       " '_teste.py',\n",
       " '__01.py',\n",
       " '__02.py',\n",
       " '__03.py',\n",
       " '__pycache__',\n",
       " '___01.py',\n",
       " '___03.py']"
      ]
     },
     "execution_count": 1,
     "metadata": {},
     "output_type": "execute_result"
    }
   ],
   "source": [
    "import os\n",
    "\n",
    "os.listdir(\".\")"
   ]
  },
  {
   "cell_type": "code",
   "execution_count": 6,
   "id": "cf075d94",
   "metadata": {},
   "outputs": [
    {
     "name": "stdout",
     "output_type": "stream",
     "text": [
      "teste.txt C:/Users/joao.santos/Documents/GitHub/testes-aleatorios/Python/projeto-sucuri/\n"
     ]
    }
   ],
   "source": [
    "f = 'C:/Users/joao.santos/Documents/GitHub/testes-aleatorios/Python/projeto-sucuri/teste.txt'\n",
    "\n",
    "i = f[::-1].find(\"/\")\n",
    "\n",
    "file = f[::-1][:i][::-1]\n",
    "i = f.find(file)\n",
    "path = f[:i]\n",
    "\n",
    "print(file, path)"
   ]
  },
  {
   "cell_type": "code",
   "execution_count": 7,
   "id": "137a60a3",
   "metadata": {},
   "outputs": [
    {
     "name": "stdout",
     "output_type": "stream",
     "text": [
      "Command failed with error code 1:\n",
      "\n"
     ]
    }
   ],
   "source": [
    "import subprocess\n",
    "\n",
    "command = \"___03.py\" # Replace your_script.py with the actual script name.\n",
    "process = subprocess.run(command, capture_output=True, text=True, shell=True)\n",
    "\n",
    "output = process.stdout\n",
    "error = process.stderr\n",
    "\n",
    "if process.returncode == 0:\n",
    "    print(\"Command executed successfully:\")\n",
    "    print(output)\n",
    "else:\n",
    "    print(f\"Command failed with error code {process.returncode}:\")\n",
    "    print(error)"
   ]
  },
  {
   "cell_type": "code",
   "execution_count": 10,
   "id": "9407e897",
   "metadata": {},
   "outputs": [
    {
     "name": "stdout",
     "output_type": "stream",
     "text": [
      "['print(\"Olá mundo!\")\\n', '\\n', 'a = True\\n', '\\n', 'if a == True:\\n', '    print(a)\\n', '\\n', 'for i in range(0, 5):\\n', '    print(type(i))\\n', '\\n', 'if a:\\n', '    soma = 1 + 3\\n', '    _soma = str(soma/2)\\n', '    print(soma)\\n', '    print(_soma)\\n', '    print(type(soma), type(_soma))']\n"
     ]
    }
   ],
   "source": [
    "with open(\"___03.py\", 'r', encoding='utf-8') as py:\n",
    "        t = py.readlines()\n",
    "py.close()\n",
    "\n",
    "print(t)"
   ]
  },
  {
   "cell_type": "code",
   "execution_count": null,
   "id": "d06d0ba9",
   "metadata": {},
   "outputs": [
    {
     "name": "stdout",
     "output_type": "stream",
     "text": [
      "mostra(\"Olá mundo!\")\n",
      "\n",
      "a = Verdade\n",
      "\n",
      "caso a == Verdade:\n",
      "    mostra(a)\n",
      "\n",
      "por i em faixa(0, 5):\n",
      "    mostra(tipo(i))\n",
      "\n",
      "caso a:\n",
      "    soma = 1 + 3\n",
      "    _soma = txt(soma/2)\n",
      "    mostra(soma)\n",
      "    mostra(_soma)\n",
      "    mostra(tipo(soma), tipo(_soma))\n"
     ]
    },
    {
     "data": {
      "text/plain": [
       "'   \\n    i = file_path[::-1].find(\"/\")\\n    file = file_path[::-1][:i][::-1]\\n    i = file_path.find(file)\\n    path = file_path[:i]\\n\\n    file.replace(\".su\", \".py\")\\n\\n    file_path = path + \"\\\\run_files\\\\\" + file\\n\\n    with open(file_path, \\'w\\', encoding=\\'utf-8\\') as py:\\n        py.write(text)\\n    py.close()\\n\\n    return file_path\\n    '"
      ]
     },
     "execution_count": 12,
     "metadata": {},
     "output_type": "execute_result"
    }
   ],
   "source": [
    "from sintaxe import a_palavras_reservadas, r_palavras_reservadas, funcoes\n",
    "\n",
    "def py_cmd_to_su(cmd_text: str):   \n",
    "    t = cmd_text.splitlines()\n",
    "\n",
    "    lines = []\n",
    "    for i, l in enumerate(t):\n",
    "        lines.append(l)\n",
    "\n",
    "        for k in a_palavras_reservadas.keys():\n",
    "            if a_palavras_reservadas[k] in lines[i]:\n",
    "                lines[i] = lines[i].replace(a_palavras_reservadas[k], k)\n",
    "        \n",
    "        for k in r_palavras_reservadas.keys():\n",
    "            if r_palavras_reservadas[k] in lines[i]:\n",
    "                lines[i] = lines[i].replace(r_palavras_reservadas[k], k)\n",
    "        \n",
    "        for k in funcoes.keys():\n",
    "            if funcoes[k] in lines[i]:\n",
    "                lines[i] = lines[i].replace(funcoes[k], k)\n",
    "\n",
    "    text = \"\"\n",
    "    for l in lines:\n",
    "        text += l + \"\\n\"\n",
    "\n",
    "    return text\n",
    "\n",
    "py_cmd_to_su(\"___03.py\")\n",
    "\"\"\"   \n",
    "    i = file_path[::-1].find(\"/\")\n",
    "    file = file_path[::-1][:i][::-1]\n",
    "    i = file_path.find(file)\n",
    "    path = file_path[:i]\n",
    "\n",
    "    file.replace(\".su\", \".py\")\n",
    "\n",
    "    file_path = path + \"\\\\run_files\\\\\" + file\n",
    "\n",
    "    with open(file_path, 'w', encoding='utf-8') as py:\n",
    "        py.write(text)\n",
    "    py.close()\n",
    "\n",
    "    return file_path\n",
    "    \"\"\" "
   ]
  }
 ],
 "metadata": {
  "kernelspec": {
   "display_name": "Python 3",
   "language": "python",
   "name": "python3"
  },
  "language_info": {
   "codemirror_mode": {
    "name": "ipython",
    "version": 3
   },
   "file_extension": ".py",
   "mimetype": "text/x-python",
   "name": "python",
   "nbconvert_exporter": "python",
   "pygments_lexer": "ipython3",
   "version": "3.12.7"
  }
 },
 "nbformat": 4,
 "nbformat_minor": 5
}
