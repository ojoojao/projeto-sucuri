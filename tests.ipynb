{
 "cells": [
  {
   "cell_type": "code",
   "execution_count": 23,
   "id": "a0bbd151",
   "metadata": {},
   "outputs": [
    {
     "name": "stdout",
     "output_type": "stream",
     "text": [
      "('\\nTeste de texto com\\nquebra de linha e com\\n    tab tambem\\n', '\\n', '')\n",
      "('', '', '\\nTeste de texto com\\nquebra de linha e com\\n    tab tambem\\n\\n')\n",
      "42\n",
      "['', 'Teste de texto com', 'quebra de linha e com', '    tab tambem', '']\n"
     ]
    }
   ],
   "source": [
    "txt = \\\n",
    "r\"\"\"\n",
    "Teste de texto com\n",
    "quebra de linha e com\n",
    "    tab tambem\n",
    "    \n",
    "\"\"\"\n",
    "\n",
    "print(txt.rpartition(\"\\n\"))\n",
    "print(txt.rpartition(\"\\t\"))\n",
    "print(txt.find(\"    \"))\n",
    "print(txt.splitlines())\n"
   ]
  },
  {
   "cell_type": "code",
   "execution_count": null,
   "id": "3a8d6e7d",
   "metadata": {},
   "outputs": [
    {
     "name": "stdout",
     "output_type": "stream",
     "text": [
      "0\n"
     ]
    }
   ],
   "source": [
    "text = txt.splitlines()\n",
    "\n",
    "for i in text:\n",
    "    if i.find(\"    \") != -1:\n",
    "        print(i.find(\"    \"))\n",
    "\n",
    "# achar maneira de ir encontrando tabs conforme a identaçãoda proxima linha"
   ]
  },
  {
   "cell_type": "code",
   "execution_count": 41,
   "id": "98849a85",
   "metadata": {},
   "outputs": [
    {
     "name": "stdout",
     "output_type": "stream",
     "text": [
      "['', 'print(\"Olá mundo!\")', '', 'a = True', '', 'if a == True:', '    print(a)']\n",
      "\n",
      "print(\"Olá mundo!\")\n",
      "\n",
      "a = True\n",
      "\n",
      "if a == True:\n",
      "    print(a)\n",
      "\n"
     ]
    }
   ],
   "source": [
    "script = \\\n",
    "\"\"\"\n",
    "mostra(\"Olá mundo!\")\n",
    "\n",
    "a = Verdade\n",
    "\n",
    "caso a == Verdade:\n",
    "    mostra(a)\n",
    "\"\"\"\n",
    "\n",
    "script = script.splitlines()\n",
    "\n",
    "n_script = []\n",
    "for i, l in enumerate(script):\n",
    "    n_script.append(l)\n",
    "    if \"mostra\" in n_script[i]:\n",
    "        n_script[i] = n_script[i].replace(\"mostra\", \"print\")\n",
    "        \n",
    "    if \"caso\" in n_script[i]:\n",
    "        n_script[i] = n_script[i].replace(\"caso\", \"if\")\n",
    "        \n",
    "    if \"Verdade\" in n_script[i]:\n",
    "        n_script[i] = n_script[i].replace(\"Verdade\", \"True\")\n",
    "\n",
    "print(n_script)\n",
    "        \n",
    "\n",
    "txt_script = \"\"\n",
    "for n_l in n_script:\n",
    "    txt_script += n_l + \"\\n\"\n",
    "\n",
    "print(txt_script)\n",
    "\n",
    "with open(\"___01.py\", \"w\", encoding='utf-8') as py:\n",
    "    py.write(txt_script)\n",
    "py.close()"
   ]
  }
 ],
 "metadata": {
  "kernelspec": {
   "display_name": "Python 3",
   "language": "python",
   "name": "python3"
  },
  "language_info": {
   "codemirror_mode": {
    "name": "ipython",
    "version": 3
   },
   "file_extension": ".py",
   "mimetype": "text/x-python",
   "name": "python",
   "nbconvert_exporter": "python",
   "pygments_lexer": "ipython3",
   "version": "3.12.7"
  }
 },
 "nbformat": 4,
 "nbformat_minor": 5
}
