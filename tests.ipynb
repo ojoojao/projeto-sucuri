{
 "cells": [
  {
   "cell_type": "code",
   "execution_count": 23,
   "id": "a0bbd151",
   "metadata": {},
   "outputs": [
    {
     "name": "stdout",
     "output_type": "stream",
     "text": [
      "('\\nTeste de texto com\\nquebra de linha e com\\n    tab tambem\\n', '\\n', '')\n",
      "('', '', '\\nTeste de texto com\\nquebra de linha e com\\n    tab tambem\\n\\n')\n",
      "42\n",
      "['', 'Teste de texto com', 'quebra de linha e com', '    tab tambem', '']\n"
     ]
    }
   ],
   "source": [
    "txt = \\\n",
    "r\"\"\"\n",
    "Teste de texto com\n",
    "quebra de linha e com\n",
    "    tab tambem\n",
    "    \n",
    "\"\"\"\n",
    "\n",
    "print(txt.rpartition(\"\\n\"))\n",
    "print(txt.rpartition(\"\\t\"))\n",
    "print(txt.find(\"    \"))\n",
    "print(txt.splitlines())\n"
   ]
  },
  {
   "cell_type": "code",
   "execution_count": null,
   "id": "3a8d6e7d",
   "metadata": {},
   "outputs": [
    {
     "name": "stdout",
     "output_type": "stream",
     "text": [
      "0\n"
     ]
    }
   ],
   "source": [
    "text = txt.splitlines()\n",
    "\n",
    "for i in text:\n",
    "    if i.find(\"    \") != -1:\n",
    "        print(i.find(\"    \"))\n",
    "\n",
    "# achar maneira de ir encontrando tabs conforme a identaçãoda proxima linha"
   ]
  }
 ],
 "metadata": {
  "kernelspec": {
   "display_name": "Python 3",
   "language": "python",
   "name": "python3"
  },
  "language_info": {
   "codemirror_mode": {
    "name": "ipython",
    "version": 3
   },
   "file_extension": ".py",
   "mimetype": "text/x-python",
   "name": "python",
   "nbconvert_exporter": "python",
   "pygments_lexer": "ipython3",
   "version": "3.12.7"
  }
 },
 "nbformat": 4,
 "nbformat_minor": 5
}
