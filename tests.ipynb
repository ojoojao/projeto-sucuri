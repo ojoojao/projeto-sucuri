{
 "cells": [
  {
   "cell_type": "code",
   "execution_count": 23,
   "id": "a0bbd151",
   "metadata": {},
   "outputs": [
    {
     "name": "stdout",
     "output_type": "stream",
     "text": [
      "('\\nTeste de texto com\\nquebra de linha e com\\n    tab tambem\\n', '\\n', '')\n",
      "('', '', '\\nTeste de texto com\\nquebra de linha e com\\n    tab tambem\\n\\n')\n",
      "42\n",
      "['', 'Teste de texto com', 'quebra de linha e com', '    tab tambem', '']\n"
     ]
    }
   ],
   "source": [
    "txt = \\\n",
    "r\"\"\"\n",
    "Teste de texto com\n",
    "quebra de linha e com\n",
    "    tab tambem\n",
    "    \n",
    "\"\"\"\n",
    "\n",
    "print(txt.rpartition(\"\\n\"))\n",
    "print(txt.rpartition(\"\\t\"))\n",
    "print(txt.find(\"    \"))\n",
    "print(txt.splitlines())\n"
   ]
  },
  {
   "cell_type": "code",
   "execution_count": null,
   "id": "3a8d6e7d",
   "metadata": {},
   "outputs": [
    {
     "name": "stdout",
     "output_type": "stream",
     "text": [
      "0\n"
     ]
    }
   ],
   "source": [
    "text = txt.splitlines()\n",
    "\n",
    "for i in text:\n",
    "    if i.find(\"    \") != -1:\n",
    "        print(i.find(\"    \"))\n",
    "\n",
    "# achar maneira de ir encontrando tabs conforme a identaçãoda proxima linha"
   ]
  },
  {
   "cell_type": "code",
   "execution_count": null,
   "id": "98849a85",
   "metadata": {},
   "outputs": [
    {
     "name": "stdout",
     "output_type": "stream",
     "text": [
      "['', 'print(\"Olá mundo!\")', '', 'a = True', '', 'if a == True:', '    print(a)']\n",
      "\n",
      "print(\"Olá mundo!\")\n",
      "\n",
      "a = True\n",
      "\n",
      "if a == True:\n",
      "    print(a)\n",
      "\n"
     ]
    }
   ],
   "source": [
    "script = \\\n",
    "\"\"\"\n",
    "mostra(\"Olá mundo!\")\n",
    "\n",
    "a = Verdade\n",
    "\n",
    "caso a == Verdade:\n",
    "    mostra(a)\n",
    "\"\"\"\n",
    "\n",
    "script = script.splitlines()\n",
    "\n",
    "n_script = []\n",
    "for i, l in enumerate(script):\n",
    "    n_script.append(l)\n",
    "    if \"mostra\" in n_script[i]:\n",
    "        n_script[i] = n_script[i].replace(\"mostra\", \"print\")\n",
    "        \n",
    "    if \"caso\" in n_script[i]:\n",
    "        n_script[i] = n_script[i].replace(\"caso\", \"if\")\n",
    "        \n",
    "    if \"Verdade\" in n_script[i]:\n",
    "        n_script[i] = n_script[i].replace(\"Verdade\", \"True\")\n",
    "\n",
    "print(n_script)\n",
    "        \n",
    "\n",
    "txt_script = \"\"\n",
    "for n_l in n_script:\n",
    "    txt_script += n_l + \"\\n\"\n",
    "\n",
    "print(txt_script)\n",
    "\n",
    "with open(\"___01.py\", \"w\", encoding='utf-8') as py:\n",
    "    py.write(txt_script)\n",
    "py.close()\n"
   ]
  },
  {
   "cell_type": "code",
   "execution_count": 3,
   "id": "65b779bb",
   "metadata": {},
   "outputs": [],
   "source": [
    "from sintaxe import palavras_reservadas, funcoes\n",
    "\n",
    "t = \\\n",
    "\"\"\"\n",
    "mostra(\"Olá mundo!\")\n",
    "\n",
    "a = Verdade\n",
    "\n",
    "caso a == Verdade:\n",
    "    mostra(a)\n",
    "\"\"\"\n",
    "t = \\\n",
    "\"\"\"\n",
    "por i em faixa(0, 10):\n",
    "    mostra(tipo(i))\n",
    "\"\"\"\n",
    "\n",
    "t = t.splitlines()\n",
    "\n",
    "lines = []\n",
    "for i, l in enumerate(t):\n",
    "    lines.append(l)\n",
    "\n",
    "    for k in palavras_reservadas.keys():\n",
    "        if k in lines[i]:\n",
    "            lines[i] = lines[i].replace(k, palavras_reservadas[k])\n",
    "    \n",
    "    for k in funcoes.keys():\n",
    "        if k in lines[i]:\n",
    "            lines[i] = lines[i].replace(k, funcoes[k])\n",
    "\n",
    "text = \"\"\n",
    "\n",
    "for l in lines:\n",
    "    text += l + \"\\n\"\n",
    "\n",
    "with open(\"__02.py\", 'w', encoding='utf-8') as py:\n",
    "    py.write(text)\n",
    "py.close()\n"
   ]
  },
  {
   "cell_type": "code",
   "execution_count": 4,
   "id": "03d9709b",
   "metadata": {},
   "outputs": [
    {
     "name": "stdout",
     "output_type": "stream",
     "text": [
      "['mostra(\"Olá mundo!\")\\n', '\\n', 'a = Verdade\\n', '\\n', 'caso a == Verdade:\\n', '    mostra(a)']\n"
     ]
    }
   ],
   "source": [
    "with open(\"teste.suc\", 'r', encoding='utf-8') as suc:\n",
    "    t = suc.readlines()\n",
    "\n",
    "print(t)"
   ]
  },
  {
   "cell_type": "code",
   "execution_count": 1,
   "id": "aa000d09",
   "metadata": {},
   "outputs": [],
   "source": [
    "from sintaxe import palavras_reservadas, funcoes\n",
    "\n",
    "with open(\"teste.su\", 'r', encoding='utf-8') as suc:\n",
    "    t = suc.readlines()\n",
    "suc.close()\n",
    "\n",
    "lines = []\n",
    "for i, l in enumerate(t):\n",
    "    lines.append(l)\n",
    "\n",
    "    for k in palavras_reservadas.keys():\n",
    "        if k in lines[i]:\n",
    "            lines[i] = lines[i].replace(k, palavras_reservadas[k])\n",
    "    \n",
    "    for k in funcoes.keys():\n",
    "        if k in lines[i]:\n",
    "            lines[i] = lines[i].replace(k, funcoes[k])\n",
    "\n",
    "text = \"\"\n",
    "for l in lines:\n",
    "    text += l\n",
    "\n",
    "with open(\"___03.py\", 'w', encoding='utf-8') as py:\n",
    "    py.write(text)\n",
    "py.close()\n"
   ]
  },
  {
   "cell_type": "code",
   "execution_count": 1,
   "id": "adc7a86b",
   "metadata": {},
   "outputs": [
    {
     "data": {
      "text/plain": [
       "['.git',\n",
       " '.gitattributes',\n",
       " '01.py',\n",
       " 'delimitadores.txt',\n",
       " 'funções.txt',\n",
       " 'operadores.txt',\n",
       " 'palavras_reservadas.txt',\n",
       " 'sintaxe.py',\n",
       " 'teste.su',\n",
       " 'tests.ipynb',\n",
       " '_01.py',\n",
       " '_02.py',\n",
       " '_03.py',\n",
       " '_teste.py',\n",
       " '__01.py',\n",
       " '__02.py',\n",
       " '__03.py',\n",
       " '__pycache__',\n",
       " '___01.py',\n",
       " '___03.py']"
      ]
     },
     "execution_count": 1,
     "metadata": {},
     "output_type": "execute_result"
    }
   ],
   "source": [
    "import os\n",
    "\n",
    "os.listdir(\".\")"
   ]
  },
  {
   "cell_type": "code",
   "execution_count": 6,
   "id": "cf075d94",
   "metadata": {},
   "outputs": [
    {
     "name": "stdout",
     "output_type": "stream",
     "text": [
      "teste.txt C:/Users/joao.santos/Documents/GitHub/testes-aleatorios/Python/projeto-sucuri/\n"
     ]
    }
   ],
   "source": [
    "f = 'C:/Users/joao.santos/Documents/GitHub/testes-aleatorios/Python/projeto-sucuri/teste.txt'\n",
    "\n",
    "i = f[::-1].find(\"/\")\n",
    "\n",
    "file = f[::-1][:i][::-1]\n",
    "i = f.find(file)\n",
    "path = f[:i]\n",
    "\n",
    "print(file, path)"
   ]
  }
 ],
 "metadata": {
  "kernelspec": {
   "display_name": "Python 3",
   "language": "python",
   "name": "python3"
  },
  "language_info": {
   "codemirror_mode": {
    "name": "ipython",
    "version": 3
   },
   "file_extension": ".py",
   "mimetype": "text/x-python",
   "name": "python",
   "nbconvert_exporter": "python",
   "pygments_lexer": "ipython3",
   "version": "3.12.4"
  }
 },
 "nbformat": 4,
 "nbformat_minor": 5
}
